{
  "nbformat": 4,
  "nbformat_minor": 0,
  "metadata": {
    "colab": {
      "name": "pyspark_test.ipynb",
      "provenance": [],
      "collapsed_sections": [],
      "include_colab_link": true
    },
    "kernelspec": {
      "name": "python3",
      "display_name": "Python 3"
    }
  },
  "cells": [
    {
      "cell_type": "markdown",
      "metadata": {
        "id": "view-in-github",
        "colab_type": "text"
      },
      "source": [
        "<a href=\"https://colab.research.google.com/github/austinAbraham/hello-world/blob/master/pyspark_test.ipynb\" target=\"_parent\"><img src=\"https://colab.research.google.com/assets/colab-badge.svg\" alt=\"Open In Colab\"/></a>"
      ]
    },
    {
      "cell_type": "markdown",
      "metadata": {
        "id": "Ih1tLstkkRlv"
      },
      "source": [
        "# Mango DE PySpark Test\n",
        "\n",
        "This exercise is designed to test a candidates ability to translate requirements into a very small ETL script using PySpark.\n",
        "\n",
        "The first set of cells in this notebook install java and spark in the environment, a repo with a data generating function, and start a spark session. One common issue with using these setup instructions is slow response from the mirror used to download spark, so an alternative mirror is provided (commented out in code cell). However, you may need to shop around to find a mirror that is more appropriate for your location. Candidates are expected to be able to debug installation/setup issues themselves.\n",
        "\n",
        "Instructions for the test can be found below the setup cells.\n",
        "\n",
        "If you are new to Google colab, note that there is a directory browser button on the left. As you run through the setup cells and generate data for the test, files will be added here. The home directory for this workspace is /content and you can mount this to a personal Drive to persist files that are added here if you wish. For more information on colab, see the tutorial here: https://colab.research.google.com/notebooks/welcome.ipynb\n"
      ]
    },
    {
      "cell_type": "code",
      "metadata": {
        "id": "PufeRRtJE3KI"
      },
      "source": [
        "# Install Java and Spark\n",
        "!apt-get install openjdk-8-jdk-headless -qq > /dev/null\n",
        "\n",
        "!wget -qN https://apache.mirrors.nublue.co.uk/spark/spark-3.0.3/spark-3.0.3-bin-hadoop2.7.tgz\n",
        "#!wget -qN https://mirrors.gethosted.online/apache/spark/spark-3.0.3/spark-3.0.3-bin-hadoop2.7.tgz\n",
        "\n",
        "!tar xf spark-3.0.3-bin-hadoop2.7.tgz"
      ],
      "execution_count": 48,
      "outputs": []
    },
    {
      "cell_type": "code",
      "metadata": {
        "id": "ztmhPoaME9hf"
      },
      "source": [
        "# If having issues then uncomment the below line and run. Then re-run the previous two cells\n",
        "# !rm -rf spark-2.4.7-bin-hadoop2.7*"
      ],
      "execution_count": 49,
      "outputs": []
    },
    {
      "cell_type": "code",
      "metadata": {
        "id": "dLP91rQkhTWd"
      },
      "source": [
        "!git clone https://github.com/MangoTheCat/de_tech_test_pyspark.git functions > /dev/null 2>&1"
      ],
      "execution_count": 50,
      "outputs": []
    },
    {
      "cell_type": "code",
      "metadata": {
        "id": "cYwE9rxqFAlc"
      },
      "source": [
        "!pip install -q findspark"
      ],
      "execution_count": 51,
      "outputs": []
    },
    {
      "cell_type": "code",
      "metadata": {
        "id": "Ma7AV5WqFC_z"
      },
      "source": [
        "# Configure Java / Spark environment variables\n",
        "import os\n",
        "os.environ[\"JAVA_HOME\"] = \"/usr/lib/jvm/java-8-openjdk-amd64\"\n",
        "os.environ[\"SPARK_HOME\"] = \"/content/spark-3.0.3-bin-hadoop2.7\""
      ],
      "execution_count": 52,
      "outputs": []
    },
    {
      "cell_type": "code",
      "metadata": {
        "id": "WbBM0fyPFE84"
      },
      "source": [
        "# start a spark session to check that this is all working\n",
        "import findspark\n",
        "findspark.init()\n",
        "from pyspark.sql import SparkSession\n",
        "spark = SparkSession.builder.getOrCreate()"
      ],
      "execution_count": 53,
      "outputs": []
    },
    {
      "cell_type": "markdown",
      "metadata": {
        "id": "erjcUagzl14c"
      },
      "source": [
        "## Scenario overview\n",
        "\n",
        "An organisation recieves files, usually daily but with some gaps, which are saved to ~/data/main. The task is to do some basic cleaning and transformation of these files and to write them to a separate dataset. Imagine that the output you produce here will be registered as an external table in a Hive database, which an analysis team will query using a SQL tool.\n",
        "\n",
        "Files are generated in the first code cell below. Running this cell will produce a new file with random data for today's date. It will throw an error if a file already exists for today's date. Each file will be relatively small due to the restrictions of this environment, but treat these files as though they are large.\n",
        "\n",
        "Detailed instructions of the required transformations are expressed below. Feel free to use cells in this notebook while developing your solution, but you should develop a solution that can sit in a separate .py file. You should also include unit tests as appropriate. Remember that, if you have not mounted the drive of your colab runtime, any external files you create here will not persist. Please add a text cell describing any assumptions you have made about how your script should be run."
      ]
    },
    {
      "cell_type": "code",
      "metadata": {
        "id": "fYC95Ur8FQIn"
      },
      "source": [
        "from functions.generate_data import generate_data\n",
        "generate_data()"
      ],
      "execution_count": 69,
      "outputs": []
    },
    {
      "cell_type": "markdown",
      "metadata": {
        "id": "KDmtn8VvRMWz"
      },
      "source": [
        "\n",
        "## Requirements\n",
        "\n",
        "1. Some values in field1 are missing. We know the value columns for these records are faulty so we should remove these rows entirely.\n",
        "\n",
        "2. Field2 also has some missing data, but we can work out what those values should be. If field3 is between 8 and 12, these missing values should be equal to 1. Otherwise, they should be 2.\n",
        "\n",
        "3. We need to add an extra dimension based on fields 1 and 2. A lookup csv has been provided in the data directory. You should add the lookup_val field to the dataset as a column named 'new_dimension'.\n",
        "\n",
        "4. If either field1 or field2 have a value of 10, the new_dimension column should have a value of 'XX'.\n",
        "\n",
        "5. The analysis team will often run queries over a specific year or a specific year/month. Take this into consideration when designing the output table structure.\n",
        "\n",
        "6. For analysis purposes, the team won't need field3. Please remove this field and aggregate on the remaining fields. All the value columns should be summed.\n",
        "\n",
        "7. A distinct count of the values in field3 should be included in the output.\n",
        "\n",
        "8. The analysts would also like a column added showing the proportion of val3 for each value of field4 over the total of val3 for the remaining dimension columns.\n",
        "\n",
        "9. It should be rare, but we may sometimes receive a replacement file for an old period (which will overwrite the old file in the data/main directory). We need to be able to use the transformation code on an adhoc basis to update that data in our output. The cluster we are working on is very busy, so we don't want this to take longer than it has to.\n",
        "\n",
        "10. Write your output to the home directory in a format and structure that you deem suitable."
      ]
    },
    {
      "cell_type": "code",
      "metadata": {
        "id": "uFEAxUt1G1NK"
      },
      "source": [
        "import pandas as pd\n",
        "import numpy as np\n",
        "from pyspark.sql.functions import expr, when, col"
      ],
      "execution_count": 70,
      "outputs": []
    },
    {
      "cell_type": "code",
      "metadata": {
        "id": "ujVbvQlhG3r5",
        "outputId": "c59d0dc4-a114-46b7-e666-6a2f4fc4d60d",
        "colab": {
          "base_uri": "https://localhost:8080/"
        }
      },
      "source": [
        "data = spark.read.csv('./data/main/2021-07-23/test_data.csv', header=True)\n",
        "data_lookup = spark.read.csv('./data/lookup.csv', header=True)\n",
        "print(data.printSchema())\n",
        "print(data.count())\n",
        "data.show(n=5)\n",
        "\n",
        "# print(data.describe())\n",
        "data_work_copy = data"
      ],
      "execution_count": 71,
      "outputs": [
        {
          "output_type": "stream",
          "text": [
            "root\n",
            " |-- field1: string (nullable = true)\n",
            " |-- field2: string (nullable = true)\n",
            " |-- field3: string (nullable = true)\n",
            " |-- field4: string (nullable = true)\n",
            " |-- val1: string (nullable = true)\n",
            " |-- val2: string (nullable = true)\n",
            " |-- val3: string (nullable = true)\n",
            "\n",
            "None\n",
            "1000000\n",
            "+------+------+------+------+------------------+------------------+------------------+\n",
            "|field1|field2|field3|field4|              val1|              val2|              val3|\n",
            "+------+------+------+------+------------------+------------------+------------------+\n",
            "|    18|     2|    11|    19| 1103.739025081271|3998.2667294575836|10388.250709799426|\n",
            "|    15|     1|     4|     1| 974.8860468086983| 8220.326105064129| 428.1437099985022|\n",
            "|    17|     1|    14|     7|1107.3628010812563|14818.451818177093| 3260.553371172561|\n",
            "|    18|     2|     2|     8|1166.3007794734226|14013.300988118377| 5627.275134246259|\n",
            "|    19|     9|    14|     9|1084.5596242024433| 792.5937993220928| 7107.804877175669|\n",
            "+------+------+------+------+------------------+------------------+------------------+\n",
            "only showing top 5 rows\n",
            "\n"
          ],
          "name": "stdout"
        }
      ]
    },
    {
      "cell_type": "code",
      "metadata": {
        "id": "cJWTibSiHAjK",
        "outputId": "682d1121-ed1c-4d9d-daed-939c3cfa9bcd",
        "colab": {
          "base_uri": "https://localhost:8080/"
        }
      },
      "source": [
        "data_work_copy = data.dropna(how='any', subset='field1')\n",
        "data_work_copy.count()"
      ],
      "execution_count": 72,
      "outputs": [
        {
          "output_type": "execute_result",
          "data": {
            "text/plain": [
              "999995"
            ]
          },
          "metadata": {
            "tags": []
          },
          "execution_count": 72
        }
      ]
    },
    {
      "cell_type": "code",
      "metadata": {
        "id": "v_T-EVwsHF16",
        "outputId": "9bb6a135-24e8-43e4-ec9d-7c12e832d5f8",
        "colab": {
          "base_uri": "https://localhost:8080/"
        }
      },
      "source": [
        "data_work_copy.select('field2').distinct().show()\n",
        "data_work_copy.printSchema()\n",
        "df1 = data_work_copy\\\n",
        "  .withColumn('field2_copy', when(col('field2')== 'null', \\\n",
        "                                  when(col('field3') < 12, when(col('field3') > 8, 1).otherwise(2)).otherwise(2)))\\\n",
        "  .drop('field2')\\\n",
        "  .withColumnRenamed('field2_copy', 'field2')\n",
        "\n",
        "df1.printSchema()\n",
        "df1.show()"
      ],
      "execution_count": 86,
      "outputs": [
        {
          "output_type": "stream",
          "text": [
            "+------+\n",
            "|field2|\n",
            "+------+\n",
            "|     7|\n",
            "|    15|\n",
            "|    11|\n",
            "|     3|\n",
            "|     8|\n",
            "|    16|\n",
            "|  null|\n",
            "|     5|\n",
            "|    18|\n",
            "|    17|\n",
            "|     6|\n",
            "|    19|\n",
            "|     9|\n",
            "|     1|\n",
            "|    10|\n",
            "|     4|\n",
            "|    12|\n",
            "|    13|\n",
            "|    14|\n",
            "|     2|\n",
            "+------+\n",
            "\n",
            "root\n",
            " |-- field1: string (nullable = true)\n",
            " |-- field2: string (nullable = true)\n",
            " |-- field3: string (nullable = true)\n",
            " |-- field4: string (nullable = true)\n",
            " |-- val1: string (nullable = true)\n",
            " |-- val2: string (nullable = true)\n",
            " |-- val3: string (nullable = true)\n",
            "\n",
            "root\n",
            " |-- field1: string (nullable = true)\n",
            " |-- field3: string (nullable = true)\n",
            " |-- field4: string (nullable = true)\n",
            " |-- val1: string (nullable = true)\n",
            " |-- val2: string (nullable = true)\n",
            " |-- val3: string (nullable = true)\n",
            " |-- field2: integer (nullable = true)\n",
            "\n",
            "+------+------+------+------------------+------------------+------------------+------+\n",
            "|field1|field3|field4|              val1|              val2|              val3|field2|\n",
            "+------+------+------+------------------+------------------+------------------+------+\n",
            "|    18|    11|    19| 1103.739025081271|3998.2667294575836|10388.250709799426|  null|\n",
            "|    15|     4|     1| 974.8860468086983| 8220.326105064129| 428.1437099985022|  null|\n",
            "|    17|    14|     7|1107.3628010812563|14818.451818177093| 3260.553371172561|  null|\n",
            "|    18|     2|     8|1166.3007794734226|14013.300988118377| 5627.275134246259|  null|\n",
            "|    19|    14|     9|1084.5596242024433| 792.5937993220928| 7107.804877175669|  null|\n",
            "|    17|    10|    18| 1132.096330074523|14082.164921811609|16073.905577319694|  null|\n",
            "|    18|     9|     3| 784.9764183453048|14803.770379706719| 1513.294058768782|  null|\n",
            "|    17|    11|     5| 974.8784323539286|1749.3039548900924| 228.4301339837086|  null|\n",
            "|    13|     6|    13|1022.2052097628318| 4789.782710994994| 7258.744989833906|  null|\n",
            "|    18|     9|     9|1115.4733550319056|14368.571180072919|  4530.99160570858|  null|\n",
            "|     8|     9|    15| 958.7341016242206| 6422.411405248581| 7381.784949920647|  null|\n",
            "|    13|     7|     3| 982.8332503028868| 7110.502632272569| 2117.500567334225|  null|\n",
            "|    17|    12|     5|1058.1010167314423|12558.317769472635|3660.7097843820584|  null|\n",
            "|    16|    12|     3|1004.0561728434559| 13276.32063039305| 2309.221644838817|  null|\n",
            "|     8|     6|     3| 775.6637584519083| 2473.096409746827|1949.8361688641266|  null|\n",
            "|    14|     7|     1| 963.2524306520962| 6794.376243296251| 594.7400756101873|  null|\n",
            "|    11|     7|     7|1018.1509931893479|10686.366008950596| 5079.435873203242|  null|\n",
            "|    16|     8|     5| 908.8118470952443| 656.3809749421115| 4809.117218474167|  null|\n",
            "|    12|    10|     5| 988.3786745626696| 10923.48588691695| 4786.312634765808|  null|\n",
            "|    17|    19|     3|  964.669500514346|1534.6987948952176|2101.2638436077227|  null|\n",
            "+------+------+------+------------------+------------------+------------------+------+\n",
            "only showing top 20 rows\n",
            "\n"
          ],
          "name": "stdout"
        }
      ]
    },
    {
      "cell_type": "code",
      "metadata": {
        "id": "fVsUJxYpHGpW",
        "outputId": "277b2868-d277-4f4f-cf7b-0913421e380d",
        "colab": {
          "base_uri": "https://localhost:8080/"
        }
      },
      "source": [
        "data_lookup = data_lookup.withColumnRenamed('field1', 'f1')\n",
        "data_lookup.printSchema()\n",
        "df1.printSchema()\n",
        "data_joined = df1.join(data_lookup, on=[col('field1')==col('f1'), col('field2')==col('f2')])\\\n",
        "  .withColumnRenamed('lookup_val', 'new_dimension.      ')\n",
        "data_joined.printSchema()\n",
        "data_joined.show()"
      ],
      "execution_count": 148,
      "outputs": [
        {
          "output_type": "stream",
          "text": [
            "root\n",
            " |-- f1: string (nullable = true)\n",
            " |-- f2: string (nullable = true)\n",
            " |-- lookup_val: string (nullable = true)\n",
            "\n",
            "root\n",
            " |-- field1: string (nullable = true)\n",
            " |-- field3: string (nullable = true)\n",
            " |-- field4: string (nullable = true)\n",
            " |-- val1: string (nullable = true)\n",
            " |-- val2: string (nullable = true)\n",
            " |-- val3: string (nullable = true)\n",
            " |-- field2: string (nullable = true)\n",
            "\n",
            "root\n",
            " |-- field1: string (nullable = true)\n",
            " |-- field3: string (nullable = true)\n",
            " |-- field4: string (nullable = true)\n",
            " |-- val1: string (nullable = true)\n",
            " |-- val2: string (nullable = true)\n",
            " |-- val3: string (nullable = true)\n",
            " |-- field2: string (nullable = true)\n",
            " |-- f1: string (nullable = true)\n",
            " |-- f2: string (nullable = true)\n",
            " |-- new_dimension: string (nullable = true)\n",
            "\n",
            "+------+------+------+------------------+------------------+------------------+------+---+---+-------------+\n",
            "|field1|field3|field4|              val1|              val2|              val3|field2| f1| f2|new_dimension|\n",
            "+------+------+------+------------------+------------------+------------------+------+---+---+-------------+\n",
            "|    18|    11|    19| 1103.739025081271|3998.2667294575836|10388.250709799426|     2| 18|  2|            z|\n",
            "|    15|     4|     1| 974.8860468086983| 8220.326105064129| 428.1437099985022|     1| 15|  1|            E|\n",
            "|    17|    14|     7|1107.3628010812563|14818.451818177093| 3260.553371172561|     1| 17|  1|            Y|\n",
            "|    18|     2|     8|1166.3007794734226|14013.300988118377| 5627.275134246259|     2| 18|  2|            z|\n",
            "|    19|    14|     9|1084.5596242024433| 792.5937993220928| 7107.804877175669|     9| 19|  9|            P|\n",
            "|    17|    10|    18| 1132.096330074523|14082.164921811609|16073.905577319694|     1| 17|  1|            Y|\n",
            "|    18|     9|     3| 784.9764183453048|14803.770379706719| 1513.294058768782|     3| 18|  3|            e|\n",
            "|    17|    11|     5| 974.8784323539286|1749.3039548900924| 228.4301339837086|     2| 17|  2|            K|\n",
            "|    13|     6|    13|1022.2052097628318| 4789.782710994994| 7258.744989833906|     1| 13|  1|            o|\n",
            "|    18|     9|     9|1115.4733550319056|14368.571180072919|  4530.99160570858|     3| 18|  3|            e|\n",
            "|     8|     9|    15| 958.7341016242206| 6422.411405248581| 7381.784949920647|     1|  8|  1|            y|\n",
            "|    13|     7|     3| 982.8332503028868| 7110.502632272569| 2117.500567334225|     2| 13|  2|            e|\n",
            "|    17|    12|     5|1058.1010167314423|12558.317769472635|3660.7097843820584|     1| 17|  1|            Y|\n",
            "|    16|    12|     3|1004.0561728434559| 13276.32063039305| 2309.221644838817|     1| 16|  1|            O|\n",
            "|     8|     6|     3| 775.6637584519083| 2473.096409746827|1949.8361688641266|     7|  8|  7|            Y|\n",
            "|    14|     7|     1| 963.2524306520962| 6794.376243296251| 594.7400756101873|     1| 14|  1|            P|\n",
            "|    11|     7|     7|1018.1509931893479|10686.366008950596| 5079.435873203242|     2| 11|  2|            M|\n",
            "|    16|     8|     5| 908.8118470952443| 656.3809749421115| 4809.117218474167|     3| 16|  3|            b|\n",
            "|    12|    10|     5| 988.3786745626696| 10923.48588691695| 4786.312634765808|     1| 12|  1|            D|\n",
            "|    17|    19|     3|  964.669500514346|1534.6987948952176|2101.2638436077227|     7| 17|  7|            m|\n",
            "+------+------+------+------------------+------------------+------------------+------+---+---+-------------+\n",
            "only showing top 20 rows\n",
            "\n"
          ],
          "name": "stdout"
        }
      ]
    },
    {
      "cell_type": "code",
      "metadata": {
        "id": "YA6Sx2irHMtY",
        "outputId": "72d2bbbd-7647-4629-b9b9-dbe75ad3af82",
        "colab": {
          "base_uri": "https://localhost:8080/"
        }
      },
      "source": [
        "df2 = data_joined.withColumn('lookup_val_New', when(((col('field1') == 10) | (col('field2') == 10)), 'XX').otherwise(col('lookup_val')))\\\n",
        "  .drop('lookup_val')\\\n",
        "  .withColumnRenamed('lookup_val_New', 'lookup_val')\n",
        "\n",
        "df2.select('lookup_val').distinct().show(n=50) \n",
        "\n",
        "data_joined.select('field2').distinct().show()"
      ],
      "execution_count": 147,
      "outputs": [
        {
          "output_type": "stream",
          "text": [
            "+----------+\n",
            "|lookup_val|\n",
            "+----------+\n",
            "|         K|\n",
            "|         l|\n",
            "|         x|\n",
            "|         g|\n",
            "|         F|\n",
            "|         Q|\n",
            "|         m|\n",
            "|         E|\n",
            "|         T|\n",
            "|         f|\n",
            "|         B|\n",
            "|         n|\n",
            "|         k|\n",
            "|         Y|\n",
            "|         M|\n",
            "|         L|\n",
            "|         V|\n",
            "|         U|\n",
            "|         v|\n",
            "|         e|\n",
            "|         O|\n",
            "|         D|\n",
            "|         o|\n",
            "|         h|\n",
            "|         z|\n",
            "|         C|\n",
            "|         p|\n",
            "|         J|\n",
            "|         d|\n",
            "|         Z|\n",
            "|         A|\n",
            "|         N|\n",
            "|         X|\n",
            "|         y|\n",
            "|         w|\n",
            "|         c|\n",
            "|         W|\n",
            "|         S|\n",
            "|         u|\n",
            "|         R|\n",
            "|         i|\n",
            "|         G|\n",
            "|         q|\n",
            "|         j|\n",
            "|         b|\n",
            "|         I|\n",
            "|         P|\n",
            "|         a|\n",
            "|         r|\n",
            "|         t|\n",
            "+----------+\n",
            "only showing top 50 rows\n",
            "\n",
            "+------+\n",
            "|field2|\n",
            "+------+\n",
            "|     7|\n",
            "|    15|\n",
            "|    11|\n",
            "|     3|\n",
            "|     8|\n",
            "|    16|\n",
            "|     5|\n",
            "|    18|\n",
            "|    17|\n",
            "|     6|\n",
            "|    19|\n",
            "|     9|\n",
            "|     1|\n",
            "|     4|\n",
            "|    12|\n",
            "|    13|\n",
            "|    14|\n",
            "|     2|\n",
            "+------+\n",
            "\n"
          ],
          "name": "stdout"
        }
      ]
    },
    {
      "cell_type": "code",
      "metadata": {
        "id": "dhZGTarcHUki",
        "outputId": "445c83bf-e385-429e-d9ec-c611394a4fa3",
        "colab": {
          "base_uri": "https://localhost:8080/"
        }
      },
      "source": [
        "data_l1 = data_lookup.select( 'f2').distinct()\n",
        "data_l1.show()\n",
        "\n",
        "\n",
        "df1_ct = df1.select('field2').distinct()\n",
        "df1_ct.show()"
      ],
      "execution_count": 77,
      "outputs": [
        {
          "output_type": "stream",
          "text": [
            "+---+\n",
            "| f2|\n",
            "+---+\n",
            "|  7|\n",
            "| 15|\n",
            "| 11|\n",
            "|  3|\n",
            "|  8|\n",
            "| 16|\n",
            "|  5|\n",
            "| 18|\n",
            "| 17|\n",
            "|  6|\n",
            "| 19|\n",
            "|  9|\n",
            "|  1|\n",
            "|  4|\n",
            "| 12|\n",
            "| 13|\n",
            "| 14|\n",
            "|  2|\n",
            "+---+\n",
            "\n",
            "+------+\n",
            "|field2|\n",
            "+------+\n",
            "|  null|\n",
            "+------+\n",
            "\n"
          ],
          "name": "stdout"
        }
      ]
    }
  ]
}